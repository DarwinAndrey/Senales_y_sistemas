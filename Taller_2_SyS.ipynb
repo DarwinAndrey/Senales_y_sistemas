{
  "nbformat": 4,
  "nbformat_minor": 0,
  "metadata": {
    "colab": {
      "provenance": [],
      "authorship_tag": "ABX9TyOuEgPB7Kj/EMzLJE1pJROZ",
      "include_colab_link": true
    },
    "kernelspec": {
      "name": "python3",
      "display_name": "Python 3"
    },
    "language_info": {
      "name": "python"
    }
  },
  "cells": [
    {
      "cell_type": "markdown",
      "metadata": {
        "id": "view-in-github",
        "colab_type": "text"
      },
      "source": [
        "<a href=\"https://colab.research.google.com/github/DarwinAndrey/Senales_y_sistemas/blob/main/Taller_2_SyS.ipynb\" target=\"_parent\"><img src=\"https://colab.research.google.com/assets/colab-badge.svg\" alt=\"Open In Colab\"/></a>"
      ]
    },
    {
      "cell_type": "markdown",
      "source": [
        "# **Pregunta 1**\n",
        "\n",
        "\n",
        "*   Explique las semejanzas y diferencias entre la serie de Fourier (exponencial, trigonometrica y compacta), la transfor- ´\n",
        "mada de Fourier, transformada de Fourier en tiempo discreto (DTFT) y transformada discreta de Fourier (DFT). Considere las diferentes combinaciones entre: espectro continuo y\n",
        "discreto y senal en tiempo continuo y discreto. Adem ˜ as, con- ´\n",
        "sulte en que consiste el algoritmo ´ Fast Fourier Transform -\n",
        "(FFT) y su utilidad para el calculo de la transformada dis- ´\n",
        "creta de Fourier. Explique en detalle el algoritmo FFT y su\n",
        "costo computacional vs el de la transformada discreta. Ver\n",
        "cuaderno Transformada de Fourier.\n",
        "\n"
      ],
      "metadata": {
        "id": "GQHnfpjxXR0p"
      }
    },
    {
      "cell_type": "markdown",
      "source": [
        "# **R1=/**\n",
        "# **Análisis de Fourier y Algoritmos Relacionados**\n",
        "\n",
        "## **1. Series y Transformadas de Fourier**\n",
        "\n",
        "### **1.1 Serie de Fourier (SF)**\n",
        "Para señales **periódicas y continuas**:\n",
        "\n",
        "- **Forma Exponencial**:\n",
        "  $$x(t) = \\sum_{k=-\\infty}^{\\infty} c_k e^{j k \\omega_0 t}$$\n",
        "  - Espectro: Discreto\n",
        "  - Dominio: Tiempo continuo\n",
        "\n",
        "- **Forma Trigonométrica**:\n",
        "  $$x(t) = a_0 + \\sum_{k=1}^{\\infty} \\left[a_k \\cos(k\\omega_0 t) + b_k \\sin(k\\omega_0 t)\\right]$$\n",
        "  - Espectro: Discreto\n",
        "\n",
        "### **1.2 Transformada de Fourier (FT)**\n",
        "Para señales **no periódicas y continuas**:\n",
        "$$X(\\omega) = \\int_{-\\infty}^{\\infty} x(t) e^{-j\\omega t} dt$$\n",
        "- Espectro: Continuo\n",
        "- Dominio: Tiempo continuo\n",
        "\n",
        "### **1.3 DTFT**\n",
        "Para señales **discretas**:\n",
        "$$X(e^{j\\omega}) = \\sum_{n=-\\infty}^{\\infty} x[n] e^{-j\\omega n}$$\n",
        "- Espectro: Continuo y periódico ($2\\pi$)\n",
        "- Dominio: Tiempo discreto\n",
        "\n",
        "### **1.4 DFT**\n",
        "Para señales **discretas y finitas**:\n",
        "$$X[k] = \\sum_{n=0}^{N-1} x[n] e^{-j\\frac{2\\pi}{N}kn}$$\n",
        "- Espectro: Discreto y periódico ($N$)\n",
        "- Dominio: Tiempo discreto\n",
        "\n",
        "## **2. Algoritmo FFT**\n",
        "\n",
        "### **2.1 Concepto**\n",
        "- Optimización de la DFT\n",
        "- Reduce complejidad de $O(N^2)$ a $O(N \\log N)$\n",
        "- Usa estrategia \"divide y vencerás\"\n",
        "\n",
        "### **2.2 Implementación Práctica**\n"
      ],
      "metadata": {
        "id": "bcGEJn5Whj_B"
      }
    },
    {
      "cell_type": "code",
      "source": [
        "import numpy as np\n",
        "from scipy.fft import fft\n",
        "import matplotlib.pyplot as plt\n",
        "\n",
        "# Señal de ejemplo\n",
        "fs = 1000  # Frecuencia de muestreo\n",
        "t = np.linspace(0, 1, fs, endpoint=False)\n",
        "x = 0.7*np.sin(2*np.pi*50*t) + np.sin(2*np.pi*120*t)\n",
        "\n",
        "# Cálculo FFT\n",
        "X = fft(x)\n",
        "N = len(X)\n",
        "freq = np.arange(N) * fs / N\n",
        "\n",
        "# Visualización\n",
        "plt.figure(figsize=(10,4))\n",
        "plt.stem(freq[:N//2], np.abs(X[:N//2]), 'b')\n",
        "plt.xlabel('Frecuencia (Hz)')\n",
        "plt.ylabel('Amplitud')\n",
        "plt.title('Espectro FFT')\n",
        "plt.grid()\n",
        "plt.show()"
      ],
      "metadata": {
        "colab": {
          "base_uri": "https://localhost:8080/",
          "height": 410
        },
        "id": "rRkkQqsvh5C5",
        "outputId": "f9a93616-6c7f-44d6-ad54-3e6cdcf8e88f"
      },
      "execution_count": null,
      "outputs": [
        {
          "output_type": "display_data",
          "data": {
            "text/plain": [
              "<Figure size 1000x400 with 1 Axes>"
            ],
            "image/png": "[encoded data removed]"
          },
          "metadata": {}
        }
      ]
    },
    {
      "cell_type": "markdown",
      "source": [
        "### **2.3 Comparación de Costo Computacional**\n",
        "\n",
        "| Complejidad | Operaciones para N=1024 | Operaciones para N=4096 |\n",
        "|-------------|-------------------------|-------------------------|\n",
        "| **DFT** ($O(N^2)$) | $1,048,576$ | $16,777,216$ |\n",
        "| **FFT** ($O(N \\log N)$) | $10,240$ | $49,152$ |\n",
        "\n",
        "**Ejemplo de escalamiento:**\n",
        "- Para $N = 2^{20}$ (1,048,576 puntos):\n",
        "  - DFT requeriría $\\approx 1.1 \\times 10^{12}$ operaciones\n",
        "  - FFT solo $\\approx 21$ millones de operaciones\n",
        "\n",
        "## **3. Resumen Comparativo**\n",
        "\n",
        "| **Método** | **Tipo de Señal** | **Espectro** | **Periodicidad** | **Dominio** |\n",
        "|------------|-------------------|--------------|------------------|-------------|\n",
        "| SF | Periódica continua | Discreto | En tiempo | $t$ continuo |\n",
        "| FT | No periódica continua | Continuo | No aplica | $t$ continuo |\n",
        "| DTFT | Discreta infinita | Continuo (periódico en $2\\pi$) | En frecuencia | $n$ discreto |\n",
        "| DFT | Discreta finita | Discreto (periódico en $N$) | En tiempo y frecuencia | $n$ discreto |\n",
        "\n",
        "## **4. Aplicaciones Prácticas**\n",
        "\n",
        "#### **Áreas clave:**\n",
        "1. **Procesamiento de señales biomédicas**\n",
        "   - Análisis de ECG/EEG\n",
        "   - Detección de anomalías cardíacas\n",
        "\n",
        "2. **Telecomunicaciones**\n",
        "   - Análisis espectral de señales 5G\n",
        "   - Diseño de filtros digitales\n",
        "\n",
        "3. **Procesamiento de imágenes**\n",
        "   - Compresión JPEG (transformada discreta del coseno)\n",
        "   - Reconocimiento de patrones\n",
        "\n",
        "4. **Acústica**\n",
        "   - Identificación de notas musicales\n",
        "   - Diseño de ecualizadores\n",
        "\n"
      ],
      "metadata": {
        "id": "CddiIXA0iaGh"
      }
    }
  ]
}